{
  "nbformat": 4,
  "nbformat_minor": 0,
  "metadata": {
    "colab": {
      "provenance": [],
      "authorship_tag": "ABX9TyMP8SXta+BFDg1UgObCT9Le",
      "include_colab_link": true
    },
    "kernelspec": {
      "name": "python3",
      "display_name": "Python 3"
    },
    "language_info": {
      "name": "python"
    }
  },
  "cells": [
    {
      "cell_type": "markdown",
      "metadata": {
        "id": "view-in-github",
        "colab_type": "text"
      },
      "source": [
        "<a href=\"https://colab.research.google.com/github/Sbabuthota/imageclassification/blob/main/preprocess_data.ipynb\" target=\"_parent\"><img src=\"https://colab.research.google.com/assets/colab-badge.svg\" alt=\"Open In Colab\"/></a>"
      ]
    },
    {
      "cell_type": "code",
      "execution_count": 1,
      "metadata": {
        "colab": {
          "base_uri": "https://localhost:8080/"
        },
        "id": "sjKiPCffx6LC",
        "outputId": "1ae6b3e2-ff41-4f96-95ec-bfca9edf3a11"
      },
      "outputs": [
        {
          "output_type": "stream",
          "name": "stdout",
          "text": [
            "Downloading data from https://www.cs.toronto.edu/~kriz/cifar-10-python.tar.gz\n",
            "170498071/170498071 [==============================] - 3s 0us/step\n"
          ]
        }
      ],
      "source": [
        "import numpy as np\n",
        "from tensorflow.keras.datasets import cifar10\n",
        "from tensorflow.keras.utils import to_categorical\n",
        "import tensorflow as tf\n",
        "\n",
        "# Load the CIFAR-10 dataset\n",
        "(train_images, train_labels), (test_images, test_labels) = cifar10.load_data()\n",
        "\n",
        "# Resize images to 64x64 (if necessary)\n",
        "train_images_resized = tf.image.resize(train_images, (64, 64))\n",
        "test_images_resized = tf.image.resize(test_images, (64, 64))\n",
        "\n",
        "# Normalize images to the range [0, 1]\n",
        "train_images_normalized = train_images_resized / 255.0\n",
        "test_images_normalized = test_images_resized / 255.0\n",
        "\n",
        "# Convert class vectors to binary class matrices (one-hot encoding)\n",
        "train_labels_one_hot = to_categorical(train_labels, num_classes=10)\n",
        "test_labels_one_hot = to_categorical(test_labels, num_classes=10)\n",
        "\n",
        "# Save preprocessed data locally\n",
        "np.save('train_images_normalized.npy', train_images_normalized)\n",
        "np.save('test_images_normalized.npy', test_images_normalized)\n",
        "np.save('train_labels_one_hot.npy', train_labels_one_hot)\n",
        "np.save('test_labels_one_hot.npy', test_labels_one_hot)\n"
      ]
    },
    {
      "cell_type": "code",
      "source": [
        "pip install numpy opencv-python pillow\n"
      ],
      "metadata": {
        "colab": {
          "base_uri": "https://localhost:8080/"
        },
        "id": "jHedFOKQ-UP1",
        "outputId": "3ff36cb9-0f41-497e-bf02-80082161f53e"
      },
      "execution_count": 2,
      "outputs": [
        {
          "output_type": "stream",
          "name": "stdout",
          "text": [
            "Requirement already satisfied: numpy in /usr/local/lib/python3.10/dist-packages (1.25.2)\n",
            "Requirement already satisfied: opencv-python in /usr/local/lib/python3.10/dist-packages (4.8.0.76)\n",
            "Requirement already satisfied: pillow in /usr/local/lib/python3.10/dist-packages (9.4.0)\n"
          ]
        }
      ]
    },
    {
      "cell_type": "code",
      "source": [
        "import numpy as np\n",
        "import os\n",
        "import cv2  # OpenCV for resizing\n",
        "\n",
        "# Function to resize images\n",
        "def resize_images(images, new_size):\n",
        "    resized_images = []\n",
        "    for img in images:\n",
        "        resized_img = cv2.resize(img, new_size, interpolation=cv2.INTER_AREA)\n",
        "        resized_images.append(resized_img)\n",
        "    return np.array(resized_images)\n",
        "\n",
        "# Function to save images as files (optional)\n",
        "def save_images(images, labels, directory, prefix):\n",
        "    if not os.path.exists(directory):\n",
        "        os.makedirs(directory)\n",
        "    for i, img in enumerate(images):\n",
        "        filename = f\"{prefix}_{i}.png\"\n",
        "        filepath = os.path.join(directory, filename)\n",
        "        cv2.imwrite(filepath, img)\n",
        "        if labels is not None:\n",
        "            label = labels[i]\n",
        "            label_filepath = os.path.join(directory, f\"{prefix}_label_{i}.txt\")\n",
        "            with open(label_filepath, 'w') as f:\n",
        "                f.write(str(label))\n",
        "\n",
        "# Load the .npy files\n",
        "train_images = np.load('train_images_normalized.npy')\n",
        "test_images = np.load('test_images_normalized.npy')\n",
        "train_labels = np.load('train_labels_one_hot.npy')\n",
        "test_labels = np.load('test_labels_one_hot.npy')\n",
        "\n",
        "# Define the new size (width, height)\n",
        "new_size = (32, 32)\n",
        "\n",
        "# Resize the images\n",
        "train_images_resized = resize_images(train_images, new_size)\n",
        "test_images_resized = resize_images(test_images, new_size)\n",
        "\n",
        "# Save the resized images back to .npy files\n",
        "np.save('train_images_resized.npy', train_images_resized)\n",
        "np.save('test_images_resized.npy', test_images_resized)\n",
        "\n",
        "# Optionally save the resized images to disk as image files\n",
        "save_images(train_images_resized, train_labels, 'resized_train_images', 'train')\n",
        "save_images(test_images_resized, test_labels, 'resized_test_images', 'test')\n",
        "\n",
        "print(\"Resizing completed and files saved.\")\n"
      ],
      "metadata": {
        "colab": {
          "base_uri": "https://localhost:8080/"
        },
        "id": "XC7t7ufO_BPP",
        "outputId": "e4cad9c1-7dab-4cfb-e1df-414a696ce074"
      },
      "execution_count": 3,
      "outputs": [
        {
          "output_type": "stream",
          "name": "stdout",
          "text": [
            "Resizing completed and files saved.\n"
          ]
        }
      ]
    },
    {
      "cell_type": "markdown",
      "source": [
        "Explanation:\n",
        "Import Libraries:\n",
        "\n",
        "numpy for handling array operations.\n",
        "cv2 (OpenCV) for resizing images.\n",
        "Define a Function to Resize Images:\n",
        "\n",
        "resize_images function takes an array of images and a new size (width, height) as inputs and returns the resized images.\n",
        "Define a Function to Save Images (optional):\n",
        "\n",
        "save_images function saves the resized images as actual image files in a specified directory, along with their labels.\n",
        "Load .npy Files:\n",
        "\n",
        "Load your .npy files containing the image data using np.load.\n",
        "Define the New Size:\n",
        "\n",
        "Set the target size for the images (e.g., 32x32 pixels).\n",
        "Resize the Images:\n",
        "\n",
        "Use the cv2.resize function to resize each image to the new size.\n",
        "Save the Resized Images:\n",
        "\n",
        "Save the resized image arrays back to .npy files using np.save.\n",
        "Optional: Save Images as Files:\n",
        "\n",
        "If you want to save the resized images as actual image files, use the save_images function.\n",
        "Notes:\n",
        "Ensure the dimensions of the input images are compatible with the cv2.resize function. If the images are in grayscale or have a different number of channels, you might need to adjust the script accordingly.\n",
        "The cv2.INTER_AREA interpolation method is generally good for shrinking images. You can experiment with other interpolation methods provided by OpenCV (e.g., cv2.INTER_LINEAR, cv2.INTER_CUBIC) to see which one works best for your specific use case.\n",
        "The optional step of saving images as files is useful if you need to visually inspect the resized images or use them in a different format.\n",
        "By following these steps, i can resize image datasets stored in .npy files and prepare them for further processing or model training.\n",
        "\n",
        "\n",
        "\n",
        "\n",
        "\n",
        "\n"
      ],
      "metadata": {
        "id": "bauKP4KK_1-Z"
      }
    }
  ]
}