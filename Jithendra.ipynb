{
  "nbformat": 4,
  "nbformat_minor": 0,
  "metadata": {
    "colab": {
      "provenance": [],
      "name": "Jithendra.ipynb",
      "authorship_tag": "ABX9TyNdSh7Sh5NZ5hVAu1u83XnH",
      "include_colab_link": true
    },
    "kernelspec": {
      "name": "python3",
      "display_name": "Python 3"
    },
    "language_info": {
      "name": "python"
    }
  },
  "cells": [
    {
      "cell_type": "markdown",
      "metadata": {
        "id": "view-in-github",
        "colab_type": "text"
      },
      "source": [
        "<a href=\"https://colab.research.google.com/github/Sbabuthota/imageclassification/blob/main/Jithendra.ipynb\" target=\"_parent\"><img src=\"https://colab.research.google.com/assets/colab-badge.svg\" alt=\"Open In Colab\"/></a>"
      ]
    },
    {
      "cell_type": "code",
      "execution_count": null,
      "metadata": {
        "colab": {
          "base_uri": "https://localhost:8080/"
        },
        "id": "3Isl58bHFyWo",
        "outputId": "c1c5f566-063f-43a9-f0b4-96f794b64679"
      },
      "outputs": [
        {
          "output_type": "stream",
          "name": "stdout",
          "text": [
            "Requirement already satisfied: tensorflow in /usr/local/lib/python3.10/dist-packages (2.15.0)\n",
            "Requirement already satisfied: absl-py>=1.0.0 in /usr/local/lib/python3.10/dist-packages (from tensorflow) (1.4.0)\n",
            "Requirement already satisfied: astunparse>=1.6.0 in /usr/local/lib/python3.10/dist-packages (from tensorflow) (1.6.3)\n",
            "Requirement already satisfied: flatbuffers>=23.5.26 in /usr/local/lib/python3.10/dist-packages (from tensorflow) (24.3.25)\n",
            "Requirement already satisfied: gast!=0.5.0,!=0.5.1,!=0.5.2,>=0.2.1 in /usr/local/lib/python3.10/dist-packages (from tensorflow) (0.5.4)\n",
            "Requirement already satisfied: google-pasta>=0.1.1 in /usr/local/lib/python3.10/dist-packages (from tensorflow) (0.2.0)\n",
            "Requirement already satisfied: h5py>=2.9.0 in /usr/local/lib/python3.10/dist-packages (from tensorflow) (3.9.0)\n",
            "Requirement already satisfied: libclang>=13.0.0 in /usr/local/lib/python3.10/dist-packages (from tensorflow) (18.1.1)\n",
            "Requirement already satisfied: ml-dtypes~=0.2.0 in /usr/local/lib/python3.10/dist-packages (from tensorflow) (0.2.0)\n",
            "Requirement already satisfied: numpy<2.0.0,>=1.23.5 in /usr/local/lib/python3.10/dist-packages (from tensorflow) (1.25.2)\n",
            "Requirement already satisfied: opt-einsum>=2.3.2 in /usr/local/lib/python3.10/dist-packages (from tensorflow) (3.3.0)\n",
            "Requirement already satisfied: packaging in /usr/local/lib/python3.10/dist-packages (from tensorflow) (24.0)\n",
            "Requirement already satisfied: protobuf!=4.21.0,!=4.21.1,!=4.21.2,!=4.21.3,!=4.21.4,!=4.21.5,<5.0.0dev,>=3.20.3 in /usr/local/lib/python3.10/dist-packages (from tensorflow) (3.20.3)\n",
            "Requirement already satisfied: setuptools in /usr/local/lib/python3.10/dist-packages (from tensorflow) (67.7.2)\n",
            "Requirement already satisfied: six>=1.12.0 in /usr/local/lib/python3.10/dist-packages (from tensorflow) (1.16.0)\n",
            "Requirement already satisfied: termcolor>=1.1.0 in /usr/local/lib/python3.10/dist-packages (from tensorflow) (2.4.0)\n",
            "Requirement already satisfied: typing-extensions>=3.6.6 in /usr/local/lib/python3.10/dist-packages (from tensorflow) (4.12.1)\n",
            "Requirement already satisfied: wrapt<1.15,>=1.11.0 in /usr/local/lib/python3.10/dist-packages (from tensorflow) (1.14.1)\n",
            "Requirement already satisfied: tensorflow-io-gcs-filesystem>=0.23.1 in /usr/local/lib/python3.10/dist-packages (from tensorflow) (0.37.0)\n",
            "Requirement already satisfied: grpcio<2.0,>=1.24.3 in /usr/local/lib/python3.10/dist-packages (from tensorflow) (1.64.1)\n",
            "Requirement already satisfied: tensorboard<2.16,>=2.15 in /usr/local/lib/python3.10/dist-packages (from tensorflow) (2.15.2)\n",
            "Requirement already satisfied: tensorflow-estimator<2.16,>=2.15.0 in /usr/local/lib/python3.10/dist-packages (from tensorflow) (2.15.0)\n",
            "Requirement already satisfied: keras<2.16,>=2.15.0 in /usr/local/lib/python3.10/dist-packages (from tensorflow) (2.15.0)\n",
            "Requirement already satisfied: wheel<1.0,>=0.23.0 in /usr/local/lib/python3.10/dist-packages (from astunparse>=1.6.0->tensorflow) (0.43.0)\n",
            "Requirement already satisfied: google-auth<3,>=1.6.3 in /usr/local/lib/python3.10/dist-packages (from tensorboard<2.16,>=2.15->tensorflow) (2.27.0)\n",
            "Requirement already satisfied: google-auth-oauthlib<2,>=0.5 in /usr/local/lib/python3.10/dist-packages (from tensorboard<2.16,>=2.15->tensorflow) (1.2.0)\n",
            "Requirement already satisfied: markdown>=2.6.8 in /usr/local/lib/python3.10/dist-packages (from tensorboard<2.16,>=2.15->tensorflow) (3.6)\n",
            "Requirement already satisfied: requests<3,>=2.21.0 in /usr/local/lib/python3.10/dist-packages (from tensorboard<2.16,>=2.15->tensorflow) (2.31.0)\n",
            "Requirement already satisfied: tensorboard-data-server<0.8.0,>=0.7.0 in /usr/local/lib/python3.10/dist-packages (from tensorboard<2.16,>=2.15->tensorflow) (0.7.2)\n",
            "Requirement already satisfied: werkzeug>=1.0.1 in /usr/local/lib/python3.10/dist-packages (from tensorboard<2.16,>=2.15->tensorflow) (3.0.3)\n",
            "Requirement already satisfied: cachetools<6.0,>=2.0.0 in /usr/local/lib/python3.10/dist-packages (from google-auth<3,>=1.6.3->tensorboard<2.16,>=2.15->tensorflow) (5.3.3)\n",
            "Requirement already satisfied: pyasn1-modules>=0.2.1 in /usr/local/lib/python3.10/dist-packages (from google-auth<3,>=1.6.3->tensorboard<2.16,>=2.15->tensorflow) (0.4.0)\n",
            "Requirement already satisfied: rsa<5,>=3.1.4 in /usr/local/lib/python3.10/dist-packages (from google-auth<3,>=1.6.3->tensorboard<2.16,>=2.15->tensorflow) (4.9)\n",
            "Requirement already satisfied: requests-oauthlib>=0.7.0 in /usr/local/lib/python3.10/dist-packages (from google-auth-oauthlib<2,>=0.5->tensorboard<2.16,>=2.15->tensorflow) (1.3.1)\n",
            "Requirement already satisfied: charset-normalizer<4,>=2 in /usr/local/lib/python3.10/dist-packages (from requests<3,>=2.21.0->tensorboard<2.16,>=2.15->tensorflow) (3.3.2)\n",
            "Requirement already satisfied: idna<4,>=2.5 in /usr/local/lib/python3.10/dist-packages (from requests<3,>=2.21.0->tensorboard<2.16,>=2.15->tensorflow) (3.7)\n",
            "Requirement already satisfied: urllib3<3,>=1.21.1 in /usr/local/lib/python3.10/dist-packages (from requests<3,>=2.21.0->tensorboard<2.16,>=2.15->tensorflow) (2.0.7)\n",
            "Requirement already satisfied: certifi>=2017.4.17 in /usr/local/lib/python3.10/dist-packages (from requests<3,>=2.21.0->tensorboard<2.16,>=2.15->tensorflow) (2024.6.2)\n",
            "Requirement already satisfied: MarkupSafe>=2.1.1 in /usr/local/lib/python3.10/dist-packages (from werkzeug>=1.0.1->tensorboard<2.16,>=2.15->tensorflow) (2.1.5)\n",
            "Requirement already satisfied: pyasn1<0.7.0,>=0.4.6 in /usr/local/lib/python3.10/dist-packages (from pyasn1-modules>=0.2.1->google-auth<3,>=1.6.3->tensorboard<2.16,>=2.15->tensorflow) (0.6.0)\n",
            "Requirement already satisfied: oauthlib>=3.0.0 in /usr/local/lib/python3.10/dist-packages (from requests-oauthlib>=0.7.0->google-auth-oauthlib<2,>=0.5->tensorboard<2.16,>=2.15->tensorflow) (3.2.2)\n"
          ]
        }
      ],
      "source": [
        "pip install tensorflow"
      ]
    },
    {
      "cell_type": "code",
      "source": [],
      "metadata": {
        "id": "0IQJikgOkgcE"
      },
      "execution_count": null,
      "outputs": []
    },
    {
      "cell_type": "markdown",
      "source": [
        "1. Setup and Imports\n",
        "First, ensure you have TensorFlow installed. If not, you can install it using pip:"
      ],
      "metadata": {
        "id": "g5cfh2QVTUn3"
      }
    },
    {
      "cell_type": "markdown",
      "source": [
        "Then, import the necessary libraries:"
      ],
      "metadata": {
        "id": "efGiH_yenfy2"
      }
    },
    {
      "cell_type": "code",
      "source": [
        "import tensorflow as tf\n",
        "from tensorflow.keras import layers, models\n",
        "import matplotlib.pyplot as plt\n",
        "import numpy as np\n"
      ],
      "metadata": {
        "id": "w2Pg1iJrGC1p"
      },
      "execution_count": null,
      "outputs": []
    },
    {
      "cell_type": "markdown",
      "source": [],
      "metadata": {
        "id": "yMvL522LntEh"
      }
    },
    {
      "cell_type": "markdown",
      "source": [
        "2. Load and Preprocess Data\n",
        "\n",
        "For this example, we will use the CIFAR-10 dataset, which is a collection of 60,000 32x32 color images in 10 classes."
      ],
      "metadata": {
        "id": "iQzZnbMZnte4"
      }
    },
    {
      "cell_type": "code",
      "source": [
        "# Load CIFAR-10 dataset\n",
        "(train_images, train_labels), (test_images, test_labels) = tf.keras.datasets.cifar10.load_data()\n",
        "\n",
        "# Normalize pixel values to be between 0 and 1\n",
        "train_images, test_images = train_images / 255.0, test_images / 255.0\n"
      ],
      "metadata": {
        "colab": {
          "base_uri": "https://localhost:8080/"
        },
        "id": "wO2WymovGLBQ",
        "outputId": "b19aec99-42f0-4d5a-f8cc-671fbd7c7297"
      },
      "execution_count": null,
      "outputs": [
        {
          "output_type": "stream",
          "name": "stdout",
          "text": [
            "Downloading data from https://www.cs.toronto.edu/~kriz/cifar-10-python.tar.gz\n",
            "170498071/170498071 [==============================] - 2s 0us/step\n"
          ]
        }
      ]
    },
    {
      "cell_type": "markdown",
      "source": [
        "3. Define the CNN Model\n",
        "\n",
        "Create a convolutional neural network with a few convolutional layers, followed by fully connected layers."
      ],
      "metadata": {
        "id": "pk5mIMwmnqFn"
      }
    },
    {
      "cell_type": "code",
      "source": [
        "model = models.Sequential([\n",
        "    layers.Conv2D(32, (3, 3), activation='relu', input_shape=(32, 32, 3)),\n",
        "    layers.MaxPooling2D((2, 2)),\n",
        "    layers.Conv2D(64, (3, 3), activation='relu'),\n",
        "    layers.MaxPooling2D((2, 2)),\n",
        "    layers.Conv2D(64, (3, 3), activation='relu'),\n",
        "    layers.Flatten(),\n",
        "    layers.Dense(64, activation='relu'),\n",
        "    layers.Dense(10)\n",
        "])\n"
      ],
      "metadata": {
        "id": "J6rk0VrOGUDs"
      },
      "execution_count": null,
      "outputs": []
    },
    {
      "cell_type": "markdown",
      "source": [
        "4. Compile the Model\n",
        "\n",
        "Compile the model with appropriate loss function, optimizer, and metrics."
      ],
      "metadata": {
        "id": "_LikXm-AoAik"
      }
    },
    {
      "cell_type": "code",
      "source": [
        "model.compile(optimizer='adam',\n",
        "              loss=tf.keras.losses.SparseCategoricalCrossentropy(from_logits=True),\n",
        "              metrics=['accuracy'])\n"
      ],
      "metadata": {
        "id": "s0N4B_boGZOJ"
      },
      "execution_count": null,
      "outputs": []
    },
    {
      "cell_type": "markdown",
      "source": [
        "5. Train the Model\n",
        "\n",
        "Train the model using the training data."
      ],
      "metadata": {
        "id": "DHKd6E87oO7U"
      }
    },
    {
      "cell_type": "code",
      "source": [
        "history = model.fit(train_images, train_labels, epochs=10,\n",
        "                    validation_data=(test_images, test_labels))\n"
      ],
      "metadata": {
        "colab": {
          "base_uri": "https://localhost:8080/"
        },
        "id": "Dq7bl36UGeB8",
        "outputId": "a63040d9-a08f-43c4-db72-8cea1ae94de6"
      },
      "execution_count": null,
      "outputs": [
        {
          "output_type": "stream",
          "name": "stdout",
          "text": [
            "Epoch 1/10\n",
            "1563/1563 [==============================] - 74s 47ms/step - loss: 1.4059 - accuracy: 0.4950 - val_loss: 1.1752 - val_accuracy: 0.5802\n",
            "Epoch 2/10\n",
            "1563/1563 [==============================] - 70s 45ms/step - loss: 1.1297 - accuracy: 0.6021 - val_loss: 1.0394 - val_accuracy: 0.6352\n",
            "Epoch 3/10\n",
            "1563/1563 [==============================] - 70s 45ms/step - loss: 0.9909 - accuracy: 0.6524 - val_loss: 0.9686 - val_accuracy: 0.6573\n",
            "Epoch 4/10\n",
            "1563/1563 [==============================] - 70s 45ms/step - loss: 0.9040 - accuracy: 0.6833 - val_loss: 0.9122 - val_accuracy: 0.6814\n",
            "Epoch 5/10\n",
            "1563/1563 [==============================] - 72s 46ms/step - loss: 0.8264 - accuracy: 0.7091 - val_loss: 0.8852 - val_accuracy: 0.6994\n",
            "Epoch 6/10\n",
            "1563/1563 [==============================] - 71s 45ms/step - loss: 0.7686 - accuracy: 0.7331 - val_loss: 0.9367 - val_accuracy: 0.6838\n",
            "Epoch 7/10\n",
            "1563/1563 [==============================] - 71s 46ms/step - loss: 0.7184 - accuracy: 0.7475 - val_loss: 0.8669 - val_accuracy: 0.7013\n",
            "Epoch 8/10\n",
            "1563/1563 [==============================] - 72s 46ms/step - loss: 0.6742 - accuracy: 0.7630 - val_loss: 0.8462 - val_accuracy: 0.7104\n",
            "Epoch 9/10\n",
            "1563/1563 [==============================] - 74s 47ms/step - loss: 0.6365 - accuracy: 0.7741 - val_loss: 0.8598 - val_accuracy: 0.7102\n",
            "Epoch 10/10\n",
            "1563/1563 [==============================] - 72s 46ms/step - loss: 0.5970 - accuracy: 0.7893 - val_loss: 0.8527 - val_accuracy: 0.7171\n"
          ]
        }
      ]
    },
    {
      "cell_type": "markdown",
      "source": [
        "6. Evaluate the Model\n",
        "\n",
        "Evaluate the model's performance on the test dataset."
      ],
      "metadata": {
        "id": "ftEGSCaGoT1X"
      }
    },
    {
      "cell_type": "code",
      "source": [
        "test_loss, test_acc = model.evaluate(test_images, test_labels, verbose=2)\n",
        "print(f'\\nTest accuracy: {test_acc}')\n"
      ],
      "metadata": {
        "colab": {
          "base_uri": "https://localhost:8080/"
        },
        "id": "kZOnr7waJqDI",
        "outputId": "ff30aeea-9bcc-4a5f-9800-3c76124407ec"
      },
      "execution_count": null,
      "outputs": [
        {
          "output_type": "stream",
          "name": "stdout",
          "text": [
            "313/313 - 3s - loss: 0.8527 - accuracy: 0.7171 - 3s/epoch - 11ms/step\n",
            "\n",
            "Test accuracy: 0.7171000242233276\n"
          ]
        }
      ]
    },
    {
      "cell_type": "markdown",
      "source": [
        "7. Plot Training History\n",
        "\n",
        "Visualize the training process by plotting the accuracy and loss over epochs."
      ],
      "metadata": {
        "id": "Xtnt9FmGocOZ"
      }
    },
    {
      "cell_type": "code",
      "source": [
        "plt.plot(history.history['accuracy'], label='accuracy')\n",
        "plt.plot(history.history['val_accuracy'], label = 'val_accuracy')\n",
        "plt.xlabel('Epoch')\n",
        "plt.ylabel('Accuracy')\n",
        "plt.ylim([0, 1])\n",
        "plt.legend(loc='lower right')\n",
        "plt.show()\n"
      ],
      "metadata": {
        "colab": {
          "base_uri": "https://localhost:8080/",
          "height": 455
        },
        "id": "XSJ4i23HPhm_",
        "outputId": "d52cc998-e300-4047-ef9a-1d2e16b4b99d"
      },
      "execution_count": null,
      "outputs": [
        {
          "output_type": "display_data",
          "data": {
            "text/plain": [
              "<Figure size 640x480 with 1 Axes>"
            ],
            "image/png": "[encoded data removed]"
          },
          "metadata": {}
        }
      ]
    },
    {
      "cell_type": "markdown",
      "source": [
        "Complete Code Example\n",
        "\n",
        "Putting it all together:"
      ],
      "metadata": {
        "id": "-5HDwcjVolbz"
      }
    },
    {
      "cell_type": "code",
      "source": [
        "import tensorflow as tf\n",
        "from tensorflow.keras import layers, models\n",
        "import matplotlib.pyplot as plt\n",
        "\n",
        "# Load and preprocess data\n",
        "(train_images, train_labels), (test_images, test_labels) = tf.keras.datasets.cifar10.load_data()\n",
        "train_images, test_images = train_images / 255.0, test_images / 255.0\n",
        "\n",
        "# Define the CNN model\n",
        "model = models.Sequential([\n",
        "    layers.Conv2D(32, (3, 3), activation='relu', input_shape=(32, 32, 3)),\n",
        "    layers.MaxPooling2D((2, 2)),\n",
        "    layers.Conv2D(64, (3, 3), activation='relu'),\n",
        "    layers.MaxPooling2D((2, 2)),\n",
        "    layers.Conv2D(64, (3, 3), activation='relu'),\n",
        "    layers.Flatten(),\n",
        "    layers.Dense(64, activation='relu'),\n",
        "    layers.Dense(10)\n",
        "])\n",
        "\n",
        "# Compile the model\n",
        "model.compile(optimizer='adam',\n",
        "              loss=tf.keras.losses.SparseCategoricalCrossentropy(from_logits=True),\n",
        "              metrics=['accuracy'])\n",
        "\n",
        "# Train the model\n",
        "history = model.fit(train_images, train_labels, epochs=10,\n",
        "                    validation_data=(test_images, test_labels))\n",
        "\n",
        "# Evaluate the model\n",
        "test_loss, test_acc = model.evaluate(test_images, test_labels, verbose=2)\n",
        "print(f'\\nTest accuracy: {test_acc}')\n",
        "\n",
        "# Plot training history\n",
        "plt.plot(history.history['accuracy'], label='accuracy')\n",
        "plt.plot(history.history['val_accuracy'], label = 'val_accuracy')\n",
        "plt.xlabel('Epoch')\n",
        "plt.ylabel('Accuracy')\n",
        "plt.ylim([0, 1])\n",
        "plt.legend(loc='lower right')\n",
        "plt.show()\n"
      ],
      "metadata": {
        "colab": {
          "base_uri": "https://localhost:8080/",
          "height": 854
        },
        "id": "6px2e3pIPrcP",
        "outputId": "b7c4a253-f6a4-429e-d607-7c6b24004a48"
      },
      "execution_count": null,
      "outputs": [
        {
          "output_type": "stream",
          "name": "stdout",
          "text": [
            "Epoch 1/10\n",
            "1563/1563 [==============================] - 77s 49ms/step - loss: 1.5197 - accuracy: 0.4466 - val_loss: 1.3114 - val_accuracy: 0.5374\n",
            "Epoch 2/10\n",
            "1563/1563 [==============================] - 73s 46ms/step - loss: 1.1724 - accuracy: 0.5831 - val_loss: 1.1291 - val_accuracy: 0.6043\n",
            "Epoch 3/10\n",
            "1563/1563 [==============================] - 72s 46ms/step - loss: 1.0184 - accuracy: 0.6404 - val_loss: 1.0082 - val_accuracy: 0.6403\n",
            "Epoch 4/10\n",
            "1563/1563 [==============================] - 71s 45ms/step - loss: 0.9157 - accuracy: 0.6762 - val_loss: 0.9292 - val_accuracy: 0.6761\n",
            "Epoch 5/10\n",
            "1563/1563 [==============================] - 73s 47ms/step - loss: 0.8461 - accuracy: 0.7042 - val_loss: 0.9462 - val_accuracy: 0.6703\n",
            "Epoch 6/10\n",
            "1563/1563 [==============================] - 74s 48ms/step - loss: 0.7833 - accuracy: 0.7243 - val_loss: 0.9008 - val_accuracy: 0.6860\n",
            "Epoch 7/10\n",
            "1563/1563 [==============================] - 72s 46ms/step - loss: 0.7323 - accuracy: 0.7419 - val_loss: 0.8916 - val_accuracy: 0.6959\n",
            "Epoch 8/10\n",
            "1563/1563 [==============================] - 72s 46ms/step - loss: 0.6913 - accuracy: 0.7565 - val_loss: 0.9447 - val_accuracy: 0.6869\n",
            "Epoch 9/10\n",
            "1563/1563 [==============================] - 73s 46ms/step - loss: 0.6513 - accuracy: 0.7717 - val_loss: 0.9031 - val_accuracy: 0.6995\n",
            "Epoch 10/10\n",
            "1563/1563 [==============================] - 72s 46ms/step - loss: 0.6149 - accuracy: 0.7846 - val_loss: 0.8730 - val_accuracy: 0.7077\n",
            "313/313 - 4s - loss: 0.8730 - accuracy: 0.7077 - 4s/epoch - 12ms/step\n",
            "\n",
            "Test accuracy: 0.7077000141143799\n"
          ]
        },
        {
          "output_type": "display_data",
          "data": {
            "text/plain": [
              "<Figure size 640x480 with 1 Axes>"
            ],
            "image/png": "[encoded data removed]"
          },
          "metadata": {}
        }
      ]
    }
  ]
}